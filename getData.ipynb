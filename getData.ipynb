{
 "cells": [
  {
   "cell_type": "code",
   "execution_count": 116,
   "id": "48a1c0c0",
   "metadata": {},
   "outputs": [],
   "source": [
    "import yfinance as yf\n",
    "import pandas as pd"
   ]
  },
  {
   "cell_type": "code",
   "execution_count": 117,
   "id": "549814f0",
   "metadata": {},
   "outputs": [
    {
     "name": "stderr",
     "output_type": "stream",
     "text": [
      "C:\\Users\\matia\\AppData\\Local\\Temp\\ipykernel_21676\\3029685449.py:2: FutureWarning: YF.download() has changed argument auto_adjust default to True\n",
      "  df = yf.download(\"MCD\", start=\"2019-01-01\", end=\"2025-01-01\", interval=\"1mo\")\n",
      "[*********************100%***********************]  1 of 1 completed\n"
     ]
    }
   ],
   "source": [
    "#MC DONALS DATA\n",
    "df = yf.download(\"MCD\", start=\"2019-01-01\", end=\"2025-01-01\", interval=\"1mo\")\n",
    "df.to_csv(\"MCD_2019_2024_monthly.csv\")\n",
    "\n",
    "MCD_DATA = pd.read_csv('MCD_2019_2024_monthly.csv')\n",
    "MCD_DATA.drop(MCD_DATA.index[[1]], inplace=True)"
   ]
  },
  {
   "cell_type": "code",
   "execution_count": 118,
   "id": "4f8c4cd2",
   "metadata": {},
   "outputs": [
    {
     "name": "stderr",
     "output_type": "stream",
     "text": [
      "C:\\Users\\matia\\AppData\\Local\\Temp\\ipykernel_21676\\3961372039.py:2: FutureWarning: YF.download() has changed argument auto_adjust default to True\n",
      "  df = yf.download(\"TSN\", start=\"2019-01-01\", end=\"2025-01-01\", interval=\"1mo\")\n",
      "[*********************100%***********************]  1 of 1 completed\n"
     ]
    }
   ],
   "source": [
    "#TYSON FOODS DATA -- PRODUCTOR DE CARNES\n",
    "df = yf.download(\"TSN\", start=\"2019-01-01\", end=\"2025-01-01\", interval=\"1mo\")\n",
    "df.to_csv(\"TSN_2019_2024_monthly.csv\")\n",
    "\n",
    "TSN_DATA = pd.read_csv(\"TSN_2019_2024_monthly.csv\")\n",
    "TSN_DATA.drop(TSN_DATA.index[[1]], inplace=True)"
   ]
  },
  {
   "cell_type": "code",
   "execution_count": 119,
   "id": "b8e80339",
   "metadata": {},
   "outputs": [
    {
     "name": "stderr",
     "output_type": "stream",
     "text": [
      "C:\\Users\\matia\\AppData\\Local\\Temp\\ipykernel_21676\\493062832.py:2: FutureWarning: YF.download() has changed argument auto_adjust default to True\n",
      "  df = yf.download(\"HRL\", start=\"2019-01-01\", end=\"2025-01-01\", interval=\"1mo\")\n",
      "[*********************100%***********************]  1 of 1 completed\n"
     ]
    }
   ],
   "source": [
    "#HORMEL FOODS DATA -- PROVEEDOR DE CARNES\n",
    "df = yf.download(\"HRL\", start=\"2019-01-01\", end=\"2025-01-01\", interval=\"1mo\")\n",
    "df.to_csv(\"HRL_2019_2024_monthly.csv\")\n",
    "\n",
    "HRL_DATA = pd.read_csv(\"HRL_2019_2024_monthly.csv\")\n",
    "HRL_DATA.drop(HRL_DATA.index[[1]], inplace=True)"
   ]
  },
  {
   "cell_type": "code",
   "execution_count": 120,
   "id": "9ba460ed",
   "metadata": {},
   "outputs": [
    {
     "name": "stderr",
     "output_type": "stream",
     "text": [
      "C:\\Users\\matia\\AppData\\Local\\Temp\\ipykernel_21676\\1768031222.py:2: FutureWarning: YF.download() has changed argument auto_adjust default to True\n",
      "  df = yf.download(\"BG\", start=\"2019-01-01\", end=\"2025-01-01\", interval=\"1mo\")\n",
      "[*********************100%***********************]  1 of 1 completed\n"
     ]
    }
   ],
   "source": [
    "#BUNGE LIMITED DATA -- PROVEEDOR DE GRANOS Y ACEITES\n",
    "df = yf.download(\"BG\", start=\"2019-01-01\", end=\"2025-01-01\", interval=\"1mo\")\n",
    "df.to_csv(\"BG_2019_2024_monthly.csv\")\n",
    "\n",
    "BG_DATA = pd.read_csv(\"BG_2019_2024_monthly.csv\")\n",
    "BG_DATA.drop(BG_DATA.index[[1]], inplace=True)"
   ]
  },
  {
   "cell_type": "code",
   "execution_count": 121,
   "id": "e59c1393",
   "metadata": {},
   "outputs": [
    {
     "name": "stderr",
     "output_type": "stream",
     "text": [
      "C:\\Users\\matia\\AppData\\Local\\Temp\\ipykernel_21676\\3046736664.py:2: FutureWarning: YF.download() has changed argument auto_adjust default to True\n",
      "  df = yf.download(\"ADM\", start=\"2019-01-01\", end=\"2025-01-01\", interval=\"1mo\")\n",
      "[*********************100%***********************]  1 of 1 completed\n"
     ]
    }
   ],
   "source": [
    "#ARCHER DANIELS MIDLAND DATA -- PROVEEDOR DE GRANOS Y ACEITES\n",
    "df = yf.download(\"ADM\", start=\"2019-01-01\", end=\"2025-01-01\", interval=\"1mo\")\n",
    "df.to_csv(\"ADM_2019_2024_monthly.csv\")\n",
    "\n",
    "ADM_DATA = pd.read_csv(\"ADM_2019_2024_monthly.csv\")\n",
    "ADM_DATA.drop(ADM_DATA.index[[1]], inplace=True)"
   ]
  },
  {
   "cell_type": "code",
   "execution_count": 122,
   "id": "5442d2e9",
   "metadata": {},
   "outputs": [
    {
     "name": "stderr",
     "output_type": "stream",
     "text": [
      "C:\\Users\\matia\\AppData\\Local\\Temp\\ipykernel_21676\\2425822202.py:2: FutureWarning: YF.download() has changed argument auto_adjust default to True\n",
      "  df = yf.download(\"KHC\", start=\"2019-01-01\", end=\"2025-01-01\", interval=\"1mo\")\n",
      "[*********************100%***********************]  1 of 1 completed\n"
     ]
    }
   ],
   "source": [
    "#KRAFT HEINZ DATA -- PROVEEDOR DE SALAS Y QUESOS\n",
    "df = yf.download(\"KHC\", start=\"2019-01-01\", end=\"2025-01-01\", interval=\"1mo\")\n",
    "df.to_csv(\"KHC_2019_2024_monthly.csv\")\n",
    "\n",
    "KHC_DATA = pd.read_csv(\"KHC_2019_2024_monthly.csv\")\n",
    "KHC_DATA.drop(KHC_DATA.index[[1]], inplace=True)"
   ]
  },
  {
   "cell_type": "code",
   "execution_count": 123,
   "id": "c7919957",
   "metadata": {},
   "outputs": [
    {
     "name": "stderr",
     "output_type": "stream",
     "text": [
      "C:\\Users\\matia\\AppData\\Local\\Temp\\ipykernel_21676\\3707649676.py:2: FutureWarning: YF.download() has changed argument auto_adjust default to True\n",
      "  df = yf.download(\"YUM\", start=\"2019-01-01\", end=\"2025-01-01\", interval=\"1mo\")\n",
      "[*********************100%***********************]  1 of 1 completed\n"
     ]
    }
   ],
   "source": [
    "#YUM! BRANDS DATA -- COMPETENCIA MAS IMPORTANTE\n",
    "df = yf.download(\"YUM\", start=\"2019-01-01\", end=\"2025-01-01\", interval=\"1mo\")\n",
    "df.to_csv(\"YUM_2019_2024_monthly.csv\")\n",
    "\n",
    "YUM_DATA = pd.read_csv(\"YUM_2019_2024_monthly.csv\")\n",
    "YUM_DATA.drop(YUM_DATA.index[[1]], inplace=True)"
   ]
  },
  {
   "cell_type": "code",
   "execution_count": 124,
   "id": "bffaaa5f",
   "metadata": {},
   "outputs": [
    {
     "name": "stderr",
     "output_type": "stream",
     "text": [
      "C:\\Users\\matia\\AppData\\Local\\Temp\\ipykernel_21676\\3147226683.py:2: FutureWarning: YF.download() has changed argument auto_adjust default to True\n",
      "  df = yf.download(\"IP\", start=\"2019-01-01\", end=\"2025-01-01\", interval=\"1mo\")\n",
      "[*********************100%***********************]  1 of 1 completed\n"
     ]
    }
   ],
   "source": [
    "#INTERNATIONAL PAPER DATA -- PROVEEDORES DE PAPEL Y CARTON\n",
    "df = yf.download(\"IP\", start=\"2019-01-01\", end=\"2025-01-01\", interval=\"1mo\")\n",
    "df.to_csv(\"IP_2019_2024_monthly.csv\")\n",
    "\n",
    "IP_DATA = pd.read_csv(\"IP_2019_2024_monthly.csv\")\n",
    "IP_DATA.drop(IP_DATA.index[[1]], inplace=True)"
   ]
  },
  {
   "cell_type": "code",
   "execution_count": 125,
   "id": "3197a550",
   "metadata": {},
   "outputs": [
    {
     "name": "stderr",
     "output_type": "stream",
     "text": [
      "C:\\Users\\matia\\AppData\\Local\\Temp\\ipykernel_21676\\3397607006.py:2: FutureWarning: YF.download() has changed argument auto_adjust default to True\n",
      "  df = yf.download(\"JBSAY\", start=\"2019-01-01\", end=\"2025-01-01\", interval=\"1mo\")\n",
      "[*********************100%***********************]  1 of 1 completed\n"
     ]
    }
   ],
   "source": [
    "#JBS DATA -- PROCESADORES DE CARNE\n",
    "df = yf.download(\"JBSAY\", start=\"2019-01-01\", end=\"2025-01-01\", interval=\"1mo\")\n",
    "df.to_csv(\"JBSAY_2019_2024_monthly.csv\")\n",
    "\n",
    "JBSAY_DATA = pd.read_csv(\"JBSAY_2019_2024_monthly.csv\")\n",
    "JBSAY_DATA.drop(JBSAY_DATA.index[[1]], inplace=True)"
   ]
  },
  {
   "cell_type": "code",
   "execution_count": 126,
   "id": "3c7bebf6",
   "metadata": {},
   "outputs": [
    {
     "name": "stderr",
     "output_type": "stream",
     "text": [
      "C:\\Users\\matia\\AppData\\Local\\Temp\\ipykernel_21676\\774116231.py:2: FutureWarning: YF.download() has changed argument auto_adjust default to True\n",
      "  df = yf.download(\"SYY\", start=\"2019-01-01\", end=\"2025-01-01\", interval=\"1mo\")\n",
      "[*********************100%***********************]  1 of 1 completed\n"
     ]
    }
   ],
   "source": [
    "#SYSCO CORPORATION DATA -- DISTRIBUCION MAYORISTA DE ALIMENTOS\n",
    "df = yf.download(\"SYY\", start=\"2019-01-01\", end=\"2025-01-01\", interval=\"1mo\")\n",
    "df.to_csv(\"SYY_2019_2024_monthly.csv\")\n",
    "\n",
    "SYY_DATA = pd.read_csv(\"SYY_2019_2024_monthly.csv\")\n",
    "SYY_DATA.drop(SYY_DATA.index[[1]], inplace=True)"
   ]
  },
  {
   "cell_type": "code",
   "execution_count": 127,
   "id": "a8814d98",
   "metadata": {},
   "outputs": [
    {
     "name": "stderr",
     "output_type": "stream",
     "text": [
      "C:\\Users\\matia\\AppData\\Local\\Temp\\ipykernel_21676\\901286126.py:2: FutureWarning: YF.download() has changed argument auto_adjust default to True\n",
      "  df = yf.download(\"XOM\", start=\"2019-01-01\", end=\"2025-01-01\", interval=\"1mo\")\n",
      "[*********************100%***********************]  1 of 1 completed\n"
     ]
    }
   ],
   "source": [
    "#EXXON MOBIL -- PRECIOS DE TRANSPORTE\n",
    "df = yf.download(\"XOM\", start=\"2019-01-01\", end=\"2025-01-01\", interval=\"1mo\")\n",
    "df.to_csv(\"XOM_2019_2024_monthly.csv\")\n",
    "\n",
    "XOM_DATA = pd.read_csv(\"XOM_2019_2024_monthly.csv\")\n",
    "XOM_DATA.drop(XOM_DATA.index[[1]], inplace=True)"
   ]
  },
  {
   "cell_type": "markdown",
   "id": "c0dd49b5",
   "metadata": {},
   "source": []
  },
  {
   "cell_type": "code",
   "execution_count": 128,
   "id": "c136f079",
   "metadata": {},
   "outputs": [
    {
     "data": {
      "text/html": [
       "<div>\n",
       "<style scoped>\n",
       "    .dataframe tbody tr th:only-of-type {\n",
       "        vertical-align: middle;\n",
       "    }\n",
       "\n",
       "    .dataframe tbody tr th {\n",
       "        vertical-align: top;\n",
       "    }\n",
       "\n",
       "    .dataframe thead th {\n",
       "        text-align: right;\n",
       "    }\n",
       "</style>\n",
       "<table border=\"1\" class=\"dataframe\">\n",
       "  <thead>\n",
       "    <tr style=\"text-align: right;\">\n",
       "      <th></th>\n",
       "      <th>Price</th>\n",
       "      <th>Close</th>\n",
       "      <th>High</th>\n",
       "      <th>Low</th>\n",
       "      <th>Open</th>\n",
       "      <th>Volume</th>\n",
       "    </tr>\n",
       "  </thead>\n",
       "  <tbody>\n",
       "    <tr>\n",
       "      <th>0</th>\n",
       "      <td>Ticker</td>\n",
       "      <td>MCD</td>\n",
       "      <td>MCD</td>\n",
       "      <td>MCD</td>\n",
       "      <td>MCD</td>\n",
       "      <td>MCD</td>\n",
       "    </tr>\n",
       "    <tr>\n",
       "      <th>2</th>\n",
       "      <td>2019-01-01</td>\n",
       "      <td>153.72018432617188</td>\n",
       "      <td>162.86876178771573</td>\n",
       "      <td>149.75637322646475</td>\n",
       "      <td>150.82256560970754</td>\n",
       "      <td>80003700</td>\n",
       "    </tr>\n",
       "    <tr>\n",
       "      <th>3</th>\n",
       "      <td>2019-02-01</td>\n",
       "      <td>158.07089233398438</td>\n",
       "      <td>158.8189521643255</td>\n",
       "      <td>149.102886012512</td>\n",
       "      <td>154.3822332807093</td>\n",
       "      <td>76828400</td>\n",
       "    </tr>\n",
       "    <tr>\n",
       "      <th>4</th>\n",
       "      <td>2019-03-01</td>\n",
       "      <td>164.3209991455078</td>\n",
       "      <td>164.85749586870722</td>\n",
       "      <td>154.2575363940917</td>\n",
       "      <td>159.72624331437302</td>\n",
       "      <td>63643000</td>\n",
       "    </tr>\n",
       "    <tr>\n",
       "      <th>5</th>\n",
       "      <td>2019-04-01</td>\n",
       "      <td>170.95791625976562</td>\n",
       "      <td>173.06059616550823</td>\n",
       "      <td>161.5520638798068</td>\n",
       "      <td>164.84021784764658</td>\n",
       "      <td>53512800</td>\n",
       "    </tr>\n",
       "  </tbody>\n",
       "</table>\n",
       "</div>"
      ],
      "text/plain": [
       "        Price               Close                High                 Low  \\\n",
       "0      Ticker                 MCD                 MCD                 MCD   \n",
       "2  2019-01-01  153.72018432617188  162.86876178771573  149.75637322646475   \n",
       "3  2019-02-01  158.07089233398438   158.8189521643255    149.102886012512   \n",
       "4  2019-03-01   164.3209991455078  164.85749586870722   154.2575363940917   \n",
       "5  2019-04-01  170.95791625976562  173.06059616550823   161.5520638798068   \n",
       "\n",
       "                 Open    Volume  \n",
       "0                 MCD       MCD  \n",
       "2  150.82256560970754  80003700  \n",
       "3   154.3822332807093  76828400  \n",
       "4  159.72624331437302  63643000  \n",
       "5  164.84021784764658  53512800  "
      ]
     },
     "execution_count": 128,
     "metadata": {},
     "output_type": "execute_result"
    }
   ],
   "source": [
    "MCD_DATA.head()\n",
    "# TSN_DATA.head()\n",
    "# HRL_DATA.head()\n",
    "# BG_DATA.head()\n",
    "# ADM_DATA.head()\n",
    "# KHC_DATA.head()\n",
    "# YUM_DATA.head()\n",
    "# IP_DATA.head()\n",
    "# JBSAY_DATA.head()\n",
    "# SYY_DATA.head()\n",
    "# XOM_DATA.head()\n"
   ]
  },
  {
   "cell_type": "code",
   "execution_count": 129,
   "id": "65c1512c",
   "metadata": {},
   "outputs": [
    {
     "data": {
      "text/html": [
       "<div>\n",
       "<style scoped>\n",
       "    .dataframe tbody tr th:only-of-type {\n",
       "        vertical-align: middle;\n",
       "    }\n",
       "\n",
       "    .dataframe tbody tr th {\n",
       "        vertical-align: top;\n",
       "    }\n",
       "\n",
       "    .dataframe thead th {\n",
       "        text-align: right;\n",
       "    }\n",
       "</style>\n",
       "<table border=\"1\" class=\"dataframe\">\n",
       "  <thead>\n",
       "    <tr style=\"text-align: right;\">\n",
       "      <th></th>\n",
       "      <th>Price</th>\n",
       "      <th>Close</th>\n",
       "      <th>High</th>\n",
       "      <th>Low</th>\n",
       "      <th>Open</th>\n",
       "      <th>Volume</th>\n",
       "    </tr>\n",
       "  </thead>\n",
       "  <tbody>\n",
       "    <tr>\n",
       "      <th>0</th>\n",
       "      <td>Ticker</td>\n",
       "      <td>TSN</td>\n",
       "      <td>TSN</td>\n",
       "      <td>TSN</td>\n",
       "      <td>TSN</td>\n",
       "      <td>TSN</td>\n",
       "    </tr>\n",
       "    <tr>\n",
       "      <th>2</th>\n",
       "      <td>2019-01-01</td>\n",
       "      <td>51.741241455078125</td>\n",
       "      <td>52.27603734182417</td>\n",
       "      <td>44.13715178754185</td>\n",
       "      <td>44.3209879732238</td>\n",
       "      <td>57673700</td>\n",
       "    </tr>\n",
       "    <tr>\n",
       "      <th>3</th>\n",
       "      <td>2019-02-01</td>\n",
       "      <td>51.52397918701172</td>\n",
       "      <td>53.42082408856472</td>\n",
       "      <td>48.63275438557457</td>\n",
       "      <td>51.93343160909089</td>\n",
       "      <td>59262300</td>\n",
       "    </tr>\n",
       "    <tr>\n",
       "      <th>4</th>\n",
       "      <td>2019-03-01</td>\n",
       "      <td>58.371761322021484</td>\n",
       "      <td>58.46424194055087</td>\n",
       "      <td>51.73841609403477</td>\n",
       "      <td>51.95700402291212</td>\n",
       "      <td>59722400</td>\n",
       "    </tr>\n",
       "    <tr>\n",
       "      <th>5</th>\n",
       "      <td>2019-04-01</td>\n",
       "      <td>63.06303787231445</td>\n",
       "      <td>63.390921428895496</td>\n",
       "      <td>57.69918667791459</td>\n",
       "      <td>58.4306226810369</td>\n",
       "      <td>48377000</td>\n",
       "    </tr>\n",
       "  </tbody>\n",
       "</table>\n",
       "</div>"
      ],
      "text/plain": [
       "        Price               Close                High                Low  \\\n",
       "0      Ticker                 TSN                 TSN                TSN   \n",
       "2  2019-01-01  51.741241455078125   52.27603734182417  44.13715178754185   \n",
       "3  2019-02-01   51.52397918701172   53.42082408856472  48.63275438557457   \n",
       "4  2019-03-01  58.371761322021484   58.46424194055087  51.73841609403477   \n",
       "5  2019-04-01   63.06303787231445  63.390921428895496  57.69918667791459   \n",
       "\n",
       "                Open    Volume  \n",
       "0                TSN       TSN  \n",
       "2   44.3209879732238  57673700  \n",
       "3  51.93343160909089  59262300  \n",
       "4  51.95700402291212  59722400  \n",
       "5   58.4306226810369  48377000  "
      ]
     },
     "execution_count": 129,
     "metadata": {},
     "output_type": "execute_result"
    }
   ],
   "source": [
    "#MCD_DATA.head()\n",
    "TSN_DATA.head()\n",
    "# HRL_DATA.head()\n",
    "# BG_DATA.head()\n",
    "# ADM_DATA.head()\n",
    "# KHC_DATA.head()\n",
    "# YUM_DATA.head()\n",
    "# IP_DATA.head()\n",
    "# JBSAY_DATA.head()\n",
    "# SYY_DATA.head()\n",
    "# XOM_DATA.head()"
   ]
  },
  {
   "cell_type": "code",
   "execution_count": 130,
   "id": "1120bba8",
   "metadata": {},
   "outputs": [],
   "source": [
    "close_data = pd.concat([\n",
    "    MCD_DATA['Close'].rename('MCD'),\n",
    "    TSN_DATA['Close'].rename('TSN'),\n",
    "    HRL_DATA['Close'].rename('HRL'),\n",
    "    BG_DATA['Close'].rename('BG'),\n",
    "    ADM_DATA['Close'].rename('ADM'),\n",
    "    KHC_DATA['Close'].rename('KHC'),\n",
    "    YUM_DATA['Close'].rename('YUM'),\n",
    "    IP_DATA['Close'].rename('IP'),\n",
    "    JBSAY_DATA['Close'].rename('JBSAY'),\n",
    "    SYY_DATA['Close'].rename('SYY'),\n",
    "    XOM_DATA['Close'].rename('XOM'),\n",
    "], axis=1)"
   ]
  },
  {
   "cell_type": "code",
   "execution_count": 131,
   "id": "38c2c762",
   "metadata": {},
   "outputs": [
    {
     "data": {
      "text/html": [
       "<div>\n",
       "<style scoped>\n",
       "    .dataframe tbody tr th:only-of-type {\n",
       "        vertical-align: middle;\n",
       "    }\n",
       "\n",
       "    .dataframe tbody tr th {\n",
       "        vertical-align: top;\n",
       "    }\n",
       "\n",
       "    .dataframe thead th {\n",
       "        text-align: right;\n",
       "    }\n",
       "</style>\n",
       "<table border=\"1\" class=\"dataframe\">\n",
       "  <thead>\n",
       "    <tr style=\"text-align: right;\">\n",
       "      <th></th>\n",
       "      <th>MCD</th>\n",
       "      <th>TSN</th>\n",
       "      <th>HRL</th>\n",
       "      <th>BG</th>\n",
       "      <th>ADM</th>\n",
       "      <th>KHC</th>\n",
       "      <th>YUM</th>\n",
       "      <th>IP</th>\n",
       "      <th>JBSAY</th>\n",
       "      <th>SYY</th>\n",
       "      <th>XOM</th>\n",
       "    </tr>\n",
       "  </thead>\n",
       "  <tbody>\n",
       "    <tr>\n",
       "      <th>0</th>\n",
       "      <td>MCD</td>\n",
       "      <td>TSN</td>\n",
       "      <td>HRL</td>\n",
       "      <td>BG</td>\n",
       "      <td>ADM</td>\n",
       "      <td>KHC</td>\n",
       "      <td>YUM</td>\n",
       "      <td>IP</td>\n",
       "      <td>JBSAY</td>\n",
       "      <td>SYY</td>\n",
       "      <td>XOM</td>\n",
       "    </tr>\n",
       "    <tr>\n",
       "      <th>2</th>\n",
       "      <td>153.72018432617188</td>\n",
       "      <td>51.741241455078125</td>\n",
       "      <td>35.8634147644043</td>\n",
       "      <td>45.13807678222656</td>\n",
       "      <td>37.12370300292969</td>\n",
       "      <td>35.27022171020508</td>\n",
       "      <td>83.41635131835938</td>\n",
       "      <td>33.508018493652344</td>\n",
       "      <td>6.361458778381348</td>\n",
       "      <td>53.90599822998047</td>\n",
       "      <td>53.88784408569336</td>\n",
       "    </tr>\n",
       "    <tr>\n",
       "      <th>3</th>\n",
       "      <td>158.07089233398438</td>\n",
       "      <td>51.52397918701172</td>\n",
       "      <td>36.924034118652344</td>\n",
       "      <td>43.50697326660156</td>\n",
       "      <td>35.13935470581055</td>\n",
       "      <td>24.357440948486328</td>\n",
       "      <td>83.8779067993164</td>\n",
       "      <td>32.37058639526367</td>\n",
       "      <td>5.515315532684326</td>\n",
       "      <td>57.390480041503906</td>\n",
       "      <td>58.1162223815918</td>\n",
       "    </tr>\n",
       "    <tr>\n",
       "      <th>4</th>\n",
       "      <td>164.3209991455078</td>\n",
       "      <td>58.371761322021484</td>\n",
       "      <td>38.11623764038086</td>\n",
       "      <td>43.91375732421875</td>\n",
       "      <td>35.95820236206055</td>\n",
       "      <td>23.96114730834961</td>\n",
       "      <td>88.98844146728516</td>\n",
       "      <td>33.03677749633789</td>\n",
       "      <td>6.299920558929443</td>\n",
       "      <td>56.71928787231445</td>\n",
       "      <td>60.07746887207031</td>\n",
       "    </tr>\n",
       "    <tr>\n",
       "      <th>5</th>\n",
       "      <td>170.95791625976562</td>\n",
       "      <td>63.06303787231445</td>\n",
       "      <td>34.011661529541016</td>\n",
       "      <td>43.367637634277344</td>\n",
       "      <td>37.18376159667969</td>\n",
       "      <td>24.69474220275879</td>\n",
       "      <td>93.07184600830078</td>\n",
       "      <td>33.42232894897461</td>\n",
       "      <td>7.638365268707275</td>\n",
       "      <td>59.78635025024414</td>\n",
       "      <td>59.690834045410156</td>\n",
       "    </tr>\n",
       "  </tbody>\n",
       "</table>\n",
       "</div>"
      ],
      "text/plain": [
       "                  MCD                 TSN                 HRL  \\\n",
       "0                 MCD                 TSN                 HRL   \n",
       "2  153.72018432617188  51.741241455078125    35.8634147644043   \n",
       "3  158.07089233398438   51.52397918701172  36.924034118652344   \n",
       "4   164.3209991455078  58.371761322021484   38.11623764038086   \n",
       "5  170.95791625976562   63.06303787231445  34.011661529541016   \n",
       "\n",
       "                   BG                ADM                 KHC  \\\n",
       "0                  BG                ADM                 KHC   \n",
       "2   45.13807678222656  37.12370300292969   35.27022171020508   \n",
       "3   43.50697326660156  35.13935470581055  24.357440948486328   \n",
       "4   43.91375732421875  35.95820236206055   23.96114730834961   \n",
       "5  43.367637634277344  37.18376159667969   24.69474220275879   \n",
       "\n",
       "                 YUM                  IP              JBSAY  \\\n",
       "0                YUM                  IP              JBSAY   \n",
       "2  83.41635131835938  33.508018493652344  6.361458778381348   \n",
       "3   83.8779067993164   32.37058639526367  5.515315532684326   \n",
       "4  88.98844146728516   33.03677749633789  6.299920558929443   \n",
       "5  93.07184600830078   33.42232894897461  7.638365268707275   \n",
       "\n",
       "                  SYY                 XOM  \n",
       "0                 SYY                 XOM  \n",
       "2   53.90599822998047   53.88784408569336  \n",
       "3  57.390480041503906    58.1162223815918  \n",
       "4   56.71928787231445   60.07746887207031  \n",
       "5   59.78635025024414  59.690834045410156  "
      ]
     },
     "execution_count": 131,
     "metadata": {},
     "output_type": "execute_result"
    }
   ],
   "source": [
    "close_data.head()"
   ]
  }
 ],
 "metadata": {
  "kernelspec": {
   "display_name": "Python 3",
   "language": "python",
   "name": "python3"
  },
  "language_info": {
   "codemirror_mode": {
    "name": "ipython",
    "version": 3
   },
   "file_extension": ".py",
   "mimetype": "text/x-python",
   "name": "python",
   "nbconvert_exporter": "python",
   "pygments_lexer": "ipython3",
   "version": "3.13.3"
  }
 },
 "nbformat": 4,
 "nbformat_minor": 5
}
